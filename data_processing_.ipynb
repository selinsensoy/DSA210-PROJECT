{
  "cells": [
    {
      "cell_type": "markdown",
      "metadata": {
        "id": "view-in-github",
        "colab_type": "text"
      },
      "source": [
        "<a href=\"https://colab.research.google.com/github/selinsensoy/DSA210-PROJECT/blob/main/data_processing_.ipynb\" target=\"_parent\"><img src=\"https://colab.research.google.com/assets/colab-badge.svg\" alt=\"Open In Colab\"/></a>"
      ]
    },
    {
      "cell_type": "code",
      "execution_count": 19,
      "metadata": {
        "id": "N_pSXHvqVh91"
      },
      "outputs": [],
      "source": [
        "import pandas as pd\n",
        "import numpy as np\n",
        "flight = pd.read_csv(\"flight route data.csv\")\n",
        "wind = pd.read_csv(\"wind data.csv\")\n",
        "emission = pd.read_csv(\"co2 emission data.csv\")\n",
        "flight.columns = flight.columns.str.strip().str.lower()\n",
        "emission.columns = emission.columns.str.strip().str.lower()\n",
        "flight[\"route\"] = flight[\"source airport\"].str.upper() + \"-\" + flight[\"destination apirport\"].str.upper()\n",
        "emission[\"route\"] = emission[\"from_airport_code\"].str.upper() + \"-\" + emission[\"dest_airport_code\"].str.upper()\n",
        "merged = pd.merge(flight, emission[[\"route\", \"co2_emissions\"]], on=\"route\", how=\"left\")\n",
        "wind[\"wind_kmh\"] = wind[\"Wind Speed (m/s)\"] * 3.6\n",
        "wind[\"wind_dir_deg\"] = wind[\"Wind Direction (°)\"]\n",
        "avg_wind_speed = wind[\"wind_kmh\"].mean()\n",
        "avg_wind_dir = wind[\"wind_dir_deg\"].mean()\n",
        "flight_heading = 90\n",
        "angle = np.radians(avg_wind_dir - flight_heading)\n",
        "merged[\"tailwind_component\"] = avg_wind_speed * np.cos(angle)\n",
        "merged[\"crosswind_component\"] = avg_wind_speed * np.sin(angle)\n",
        "merged.to_csv(\"merged_flight_wind_emissions.csv\", index=False)\n",
        "\n",
        "\n",
        "\n"
      ]
    }
  ],
  "metadata": {
    "colab": {
      "provenance": [],
      "authorship_tag": "ABX9TyNv4jXDnZ2IXZLWsjt6flMa",
      "include_colab_link": true
    },
    "kernelspec": {
      "display_name": "Python 3",
      "name": "python3"
    },
    "language_info": {
      "name": "python"
    }
  },
  "nbformat": 4,
  "nbformat_minor": 0
}