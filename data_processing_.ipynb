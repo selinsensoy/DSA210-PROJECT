{
  "cells": [
    {
      "cell_type": "markdown",
      "metadata": {
        "id": "view-in-github",
        "colab_type": "text"
      },
      "source": [
        "<a href=\"https://colab.research.google.com/github/selinsensoy/DSA210-PROJECT/blob/main/data_processing_.ipynb\" target=\"_parent\"><img src=\"https://colab.research.google.com/assets/colab-badge.svg\" alt=\"Open In Colab\"/></a>"
      ]
    },
    {
      "cell_type": "code",
      "source": [
        "\n",
        "berlin = pd.read_csv(\"Berlin.csv\", parse_dates=['Date'], dayfirst=True)\n",
        "dortmund = pd.read_csv(\"dortmund.csv\", parse_dates=['Date'], dayfirst=True)\n",
        "bayreuth = pd.read_csv(\"Bayreuth.csv\", parse_dates=['Date'], dayfirst=True)\n",
        "\n",
        "\n",
        "fuel_df = pd.read_csv('seasonal_flight_fuel_data.csv', parse_dates=['date'], dayfirst=True)\n",
        "\n",
        "fuel_expanded_df['date'] = pd.to_datetime(fuel_expanded_df['date'], dayfirst=True)\n",
        "\n",
        "\n",
        "print(fuel_expanded_df['date'].dtype)\n",
        "print(daily_wind['Date'].dtype)\n",
        "\n",
        "merged = pd.merge(fuel_expanded_df, daily_wind, left_on=['date', 'city'], right_on=['Date', 'city'], how='left')\n",
        "\n",
        "merged.drop(columns=['Date'], inplace=True)\n",
        "merged.to_csv('fuel_wind_merged.csv', index=False)\n"
      ],
      "metadata": {
        "colab": {
          "base_uri": "https://localhost:8080/"
        },
        "id": "CZwKzQX3xquC",
        "outputId": "a8d2a712-94d8-45e9-fa42-d0144a634324"
      },
      "execution_count": 6,
      "outputs": [
        {
          "output_type": "stream",
          "name": "stdout",
          "text": [
            "datetime64[ns]\n",
            "datetime64[ns]\n"
          ]
        }
      ]
    }
  ],
  "metadata": {
    "colab": {
      "provenance": [],
      "authorship_tag": "ABX9TyPTSET0FG0Wq5/xJsjhdS9b",
      "include_colab_link": true
    },
    "kernelspec": {
      "display_name": "Python 3",
      "name": "python3"
    },
    "language_info": {
      "name": "python"
    }
  },
  "nbformat": 4,
  "nbformat_minor": 0
}